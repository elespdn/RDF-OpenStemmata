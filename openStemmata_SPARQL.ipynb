{
 "cells": [
  {
   "cell_type": "markdown",
   "id": "3fe435b4",
   "metadata": {},
   "source": [
    "# RDF version of Open Stemmata data\n",
    "\n",
    "Author: Elena Spadini\n",
    "\n",
    "Date: April 2023\n",
    "\n",
    "Reusing data from: Jean-Baptiste Camps, Gustave Fernandez Riva, Simon Gabay, *Open Stemmata: Database*, version 0.1, 2021, https://github.com/OpenStemmata/database/ (CC BY-SA 4.0).\n",
    "\n",
    "[Open Stemmata](https://openstemmata.github.io/) is an organisation aiming at creating an Open Source database of textual genealogies (i.e. stemmata), curated by Jean-Baptiste Camps and Gustavo Riva. In the database, a DOT (Graphviz) transcription is provided for each stemma, alongside metadata (in txt and xml/tei) and images.\n",
    "\n",
    "The DOT transcriptions from Open Stemmata have been transformed here to RDF. Please note that this RDF dataset has not been checked by the Open Stemmata curators and any error is the sole responsability of the transformation author.\n",
    "\n",
    "This transformation has been made for testing purposes: the RDF version of the data has an enriched semantic structure that can be queried through SPARQL and might help to gain new insights from the database. The ontology created is also part of the test, the URL is not resolvable and the data URIs won't be maintained.\n",
    "\n",
    "This jupyter notebook is a playground for exploring the RDF dataset. It can be run locally or through the myBinder button.\n",
    "\n",
    "The data transformed to RDF is available [here](openStemmataData.ttl). The ontology used to structure the RDF data is available [here](stemma-onto.ttl)."
   ]
  },
  {
   "cell_type": "markdown",
   "id": "44492995",
   "metadata": {},
   "source": [
    "# Query the data\n",
    "\n",
    "Add your SPARQL QUERY into `my_query` and run.\n",
    "\n",
    "Please note that no inference is supported here (e.g., sub-classes and -properties), so queries may be much more verbose.\n",
    "\n",
    "You might need to format the results. \n",
    "\n",
    "See below for examples of queries."
   ]
  },
  {
   "cell_type": "code",
   "execution_count": 1,
   "id": "20d72afb",
   "metadata": {},
   "outputs": [
    {
     "name": "stdout",
     "output_type": "stream",
     "text": [
      "(rdflib.term.Literal('υ'), rdflib.term.URIRef('file:///home/elena/Dropbox/b_boulot/workshop_conferenze_SPEAKER/2023_04_newcastleVirtual/openStemmata/repo/Kenney_1995_Metamorphoses_node_ypsilon'), rdflib.term.URIRef('http://www.w3.org/2000/01/rdf-schema#label'))\n",
      "(rdflib.term.URIRef('file:///home/elena/Dropbox/b_boulot/workshop_conferenze_SPEAKER/2023_04_newcastleVirtual/openStemmata/repo/Cartelle_1987_LMinor_De_Coitu_stemma'), rdflib.term.URIRef('file:///home/elena/Dropbox/b_boulot/workshop_conferenze_SPEAKER/2023_04_newcastleVirtual/openStemmata/repo/Cartelle_1987_LMinor_De_Coitu_node_F'), rdflib.term.URIRef('http://example.com/stemma-onto#isWitnessIn'))\n",
      "(rdflib.term.Literal('Mz'), rdflib.term.URIRef('file:///home/elena/Dropbox/b_boulot/workshop_conferenze_SPEAKER/2023_04_newcastleVirtual/openStemmata/repo/Korte_1914_RenMont1_node_Mz'), rdflib.term.URIRef('http://www.w3.org/2000/01/rdf-schema#label'))\n",
      "(rdflib.term.URIRef('file:///home/elena/Dropbox/b_boulot/workshop_conferenze_SPEAKER/2023_04_newcastleVirtual/openStemmata/repo/Bogdanow_1991_QuesteTr_node_T2'), rdflib.term.URIRef('file:///home/elena/Dropbox/b_boulot/workshop_conferenze_SPEAKER/2023_04_newcastleVirtual/openStemmata/repo/Bogdanow_1991_QuesteTr_node_X3tx'), rdflib.term.URIRef('http://example.com/stemma-onto#isExemplarOf'))\n",
      "(rdflib.term.URIRef('file:///home/elena/Dropbox/b_boulot/workshop_conferenze_SPEAKER/2023_04_newcastleVirtual/openStemmata/repo/Huebner_1964_Rennewart_node_Eta'), rdflib.term.URIRef('file:///home/elena/Dropbox/b_boulot/workshop_conferenze_SPEAKER/2023_04_newcastleVirtual/openStemmata/repo/Huebner_1964_Rennewart_node_Delta'), rdflib.term.URIRef('http://example.com/stemma-onto#isExemplarOf'))\n"
     ]
    }
   ],
   "source": [
    "import rdflib\n",
    "g = rdflib.Graph()\n",
    "g.parse(\"openStemmataData.ttl\")\n",
    "\n",
    "my_query = \"\"\"\n",
    "SELECT DISTINCT *\n",
    "WHERE {\n",
    "    ?s ?p ?o\n",
    "} LIMIT 5\"\"\"\n",
    "\n",
    "qres = g.query(my_query)\n",
    "for row in qres:\n",
    "    print(row)\n"
   ]
  },
  {
   "cell_type": "markdown",
   "id": "ddefdb10",
   "metadata": {},
   "source": [
    "## Example 1. All stemmas with contamination"
   ]
  },
  {
   "cell_type": "code",
   "execution_count": 10,
   "id": "8ff26dbc",
   "metadata": {},
   "outputs": [
    {
     "name": "stdout",
     "output_type": "stream",
     "text": [
      "33 RESULTS\n",
      "\n",
      "\n",
      "Nicolodi_2003_Romani-Turco_stemma\n",
      "Trovato_2004_Sannazaro-Arcadia_stemma\n",
      "Einar_1954_Brennu-njalssaga_stemma\n",
      "CataldiPalau_1982_LesAmours_stemma\n",
      "Erbse_1961_Aratos-Phainomena_stemma\n",
      "Erbse_1961_Thukydides-Historiai_stemma\n",
      "Arnott_1996_Athenaeus_stemma\n",
      "Zink_1984_Cleriadus_stemma\n",
      "Stroński_1906_EliasDeBarjolsVII_stemma\n",
      "Stroński_1906_EliasDeBarjolsXIV_stemma\n",
      "Stroński_1906_EliasDeBarjolsX_stemma\n",
      "Jardin_2013_SumaDeReyes_stemma\n",
      "Pfannmueller_1911_Heidin_stemma\n",
      "Spiller_1909_BayerischeChronik_stemma\n",
      "Wetzel_1992_Tristan_stemma\n",
      "Strippel_1978_KoeniginVonFrankreich_stemma\n",
      "Mettke_1974_ArmerHeinrich_stemma\n",
      "Brackert_1963_Nibelungenlied_stemma\n",
      "Strauch_1900_Fuerstenbuch_stemma\n",
      "LeonardiTrachsler_2015_Meliadus_stemma\n",
      "Constans_1890_Thebes_stemma\n",
      "Zufferey_2007_Alexis_stemma\n",
      "Demaison_1887_Aimeri_stemma\n",
      "Bedier_1902_Tristan_stemma\n",
      "Salverda_1888_Eneas_stemma\n",
      "Rolin_1897_Aliscans2-Rainouart_stemma\n",
      "Gundlach_1883_SiegeBarbastre_stemma\n",
      "Kenney_1995_Metamorphoses_stemma\n",
      "Shaw_2009_Monarchia_stemma\n",
      "Petrocchi_1966_Commedia_stemma\n",
      "Burgio_2008_Milione_stemma\n",
      "Hult_2004_Charrette_stemma\n",
      "Warnke_1898_Isopet_stemma\n"
     ]
    }
   ],
   "source": [
    "import rdflib\n",
    "g = rdflib.Graph()\n",
    "g.parse(\"openStemmataData.ttl\")\n",
    "\n",
    "my_query = \"\"\"\n",
    "PREFIX stemma-onto: <http://example.com/stemma-onto#>\n",
    "\n",
    "select distinct\n",
    "?stemma\n",
    "where { \n",
    "    {?witness stemma-onto:isContaminatingExemplarOf ?descendant }\n",
    "    UNION\n",
    "    {?witness stemma-onto:isHypotheticalContaminatingExemplarOf ?descendant}\n",
    "    \n",
    "    ?witness stemma-onto:isWitnessIn ?stemma .\n",
    "    \n",
    "} \n",
    "\n",
    "\"\"\"\n",
    "\n",
    "qres = g.query(my_query)\n",
    "print(str(len(qres))+\" RESULTS\\n\\n\")\n",
    "for row in qres:\n",
    "    stemmaName = row.stemma.split('/')[-1]\n",
    "    print(stemmaName)\n",
    "    \n",
    "## 33 / 161 = circa 20%"
   ]
  }
 ],
 "metadata": {
  "kernelspec": {
   "display_name": "Python 3 (ipykernel)",
   "language": "python",
   "name": "python3"
  },
  "language_info": {
   "codemirror_mode": {
    "name": "ipython",
    "version": 3
   },
   "file_extension": ".py",
   "mimetype": "text/x-python",
   "name": "python",
   "nbconvert_exporter": "python",
   "pygments_lexer": "ipython3",
   "version": "3.9.7"
  }
 },
 "nbformat": 4,
 "nbformat_minor": 5
}
